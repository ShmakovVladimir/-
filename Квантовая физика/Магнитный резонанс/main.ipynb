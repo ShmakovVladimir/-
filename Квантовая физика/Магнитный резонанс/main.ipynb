{
 "cells": [
  {
   "cell_type": "code",
   "execution_count": 134,
   "metadata": {},
   "outputs": [],
   "source": [
    "import numpy as np\n",
    "import matplotlib.pyplot as plt\n",
    "import pandas as pd\n",
    "from scipy.interpolate import interp1d\n",
    "from scipy.optimize import curve_fit\n",
    "from scipy import constants as const\n",
    "from scipy.special import voigt_profile"
   ]
  },
  {
   "cell_type": "markdown",
   "metadata": {},
   "source": [
    "### Кривая погложения "
   ]
  },
  {
   "cell_type": "code",
   "execution_count": 123,
   "metadata": {},
   "outputs": [
    {
     "data": {
      "text/html": [
       "<div>\n",
       "<style scoped>\n",
       "    .dataframe tbody tr th:only-of-type {\n",
       "        vertical-align: middle;\n",
       "    }\n",
       "\n",
       "    .dataframe tbody tr th {\n",
       "        vertical-align: top;\n",
       "    }\n",
       "\n",
       "    .dataframe thead th {\n",
       "        text-align: right;\n",
       "    }\n",
       "</style>\n",
       "<table border=\"1\" class=\"dataframe\">\n",
       "  <thead>\n",
       "    <tr style=\"text-align: right;\">\n",
       "      <th></th>\n",
       "      <th>x</th>\n",
       "      <th>y</th>\n",
       "    </tr>\n",
       "  </thead>\n",
       "  <tbody>\n",
       "    <tr>\n",
       "      <th>0</th>\n",
       "      <td>-5.186757</td>\n",
       "      <td>0.020422</td>\n",
       "    </tr>\n",
       "    <tr>\n",
       "      <th>1</th>\n",
       "      <td>-5.148576</td>\n",
       "      <td>-0.097522</td>\n",
       "    </tr>\n",
       "    <tr>\n",
       "      <th>2</th>\n",
       "      <td>-4.984750</td>\n",
       "      <td>0.019698</td>\n",
       "    </tr>\n",
       "    <tr>\n",
       "      <th>3</th>\n",
       "      <td>-4.976021</td>\n",
       "      <td>-0.076248</td>\n",
       "    </tr>\n",
       "    <tr>\n",
       "      <th>4</th>\n",
       "      <td>-4.993983</td>\n",
       "      <td>-0.180464</td>\n",
       "    </tr>\n",
       "  </tbody>\n",
       "</table>\n",
       "</div>"
      ],
      "text/plain": [
       "          x         y\n",
       "0 -5.186757  0.020422\n",
       "1 -5.148576 -0.097522\n",
       "2 -4.984750  0.019698\n",
       "3 -4.976021 -0.076248\n",
       "4 -4.993983 -0.180464"
      ]
     },
     "execution_count": 123,
     "metadata": {},
     "output_type": "execute_result"
    }
   ],
   "source": [
    "curve = pd.read_csv('absorption_curve.csv')\n",
    "curve.y -= np.mean(curve.y)\n",
    "curve.head()"
   ]
  },
  {
   "cell_type": "code",
   "execution_count": 124,
   "metadata": {},
   "outputs": [],
   "source": [
    "def gaussian(x, mean, std_dev):\n",
    "    exponent = -((x - mean) ** 2) / (2 * std_dev ** 2)\n",
    "    return np.exp(exponent) / (std_dev * np.sqrt(2 * np.pi))\n",
    "\n",
    "def laplace(x, loc, scale, offset):\n",
    "    abs_diff = np.abs(x - loc)\n",
    "    pdf = 0.5 * np.exp(-abs_diff / scale) / scale\n",
    "    return pdf + offset\n",
    "\n",
    "def cauchy(x, location, scale):\n",
    "    pdf = (1 / (np.pi * scale)) / (1 + ((x - location) / scale) ** 2)\n",
    "    return pdf"
   ]
  },
  {
   "cell_type": "code",
   "execution_count": 125,
   "metadata": {},
   "outputs": [],
   "source": [
    "from scipy.signal import convolve\n",
    "\n",
    "data = curve.y\n",
    "window_size = 3\n",
    "\n",
    "window = np.ones(window_size) / window_size\n",
    "\n",
    "smoothed_data = convolve(data, window, mode='same')\n",
    "smoothed_data += np.mean(smoothed_data)"
   ]
  },
  {
   "cell_type": "code",
   "execution_count": 126,
   "metadata": {},
   "outputs": [],
   "source": [
    "# curve.y -= np.mean(curve.y)"
   ]
  },
  {
   "cell_type": "code",
   "execution_count": 142,
   "metadata": {},
   "outputs": [
    {
     "name": "stdout",
     "output_type": "stream",
     "text": [
      "[-20711.47607906  -2178.46642166]\n",
      "[2.02304885 0.22985828]\n",
      "[2.04364396 0.30445444]\n"
     ]
    }
   ],
   "source": [
    "plt.figure(figsize = (12, 5), dpi = 200)\n",
    "\n",
    "x_line_osc = np.linspace(np.min(curve.x) + 1e-2, np.max(curve.x) - 1e-2, 1000)\n",
    "most_accurate_zone_mask = (curve.x > 1.4) * (curve.x < 2.8)\n",
    "# most_accurate_zone_mask = np.ones_like(curve.x)\n",
    "param_cauchy, _ = curve_fit(cauchy, curve.x, curve.y, p0 = [2, 2])\n",
    "param_gauss, _ = curve_fit(gaussian, curve.x, curve.y, p0 = [2, 2])\n",
    "param_voigt, _ = curve_fit(voigt_profile, curve.x, curve.y, p0 = [10, 30])\n",
    "print(param_voigt)\n",
    "print(param_cauchy)\n",
    "print(param_gauss)\n",
    "plt.scatter(curve.x, curve.y, s = 40, edgecolors = 'k', label = 'Оцифрованная осцилограмма')\n",
    "# plt.plot(x_line_osc, cauchy(x_line_osc, *param_cauchy), color = 'orange', linewidth = 2, label = 'Коши', linestyle = '--')\n",
    "# plt.plot(x_line_osc, gaussian(x_line_osc, *param_gauss), color = 'purple', linewidth = 2, label = f'Гауссиан $\\sigma = {param_gauss[1]:.2f}$')\n",
    "plt.plot(x_line_osc, voigt_profile(x_line_osc, *param_voigt), color = 'orange', linewidth = 2, label = f'Воихт $\\sigma = {param_voigt[1]:.2f}$')\n",
    "plt.xticks(np.arange(-10, 10, 0.2), minor = True)\n",
    "plt.xticks(np.arange(-10, 10, 1))\n",
    "plt.yticks(np.arange(-10, 10, 0.2))\n",
    "plt.ylim(-1, 2)\n",
    "plt.xlim(-5, 5)\n",
    "plt.axhline(0, linewidth = 2, color = 'black')\n",
    "plt.axvline(0, linewidth = 2, color = 'black')\n",
    "plt.grid()\n",
    "plt.legend(fontsize = 16, loc = 'upper left')\n",
    "plt.xlabel(r\"$x \\ дел.$\", fontsize = 16)\n",
    "plt.ylabel(r\"$y \\ дел.$\", fontsize = 16)\n",
    "plt.title(r\"Оцифровка осциллограммы сигнала резонансного поглащения\", fontsize = 16)"
   ]
  },
  {
   "cell_type": "code",
   "execution_count": 128,
   "metadata": {},
   "outputs": [
    {
     "name": "stdout",
     "output_type": "stream",
     "text": [
      "1.4461585890750126\n",
      "0.7169354176521086\n"
     ]
    }
   ],
   "source": [
    "A_full = 2 * 2.375 * param_gauss[1]\n",
    "A_half = 2 * np.sqrt(2 * np.log(2)) * param_gauss[1]\n",
    "print(A_full)\n",
    "print(A_half)\n"
   ]
  },
  {
   "cell_type": "code",
   "execution_count": 129,
   "metadata": {},
   "outputs": [],
   "source": [
    "f0 = 161.920 * 1e6 #Гц\n",
    "N = 44\n",
    "d = 14 * 1e-3\n",
    "e = 8 * 1e-3 #В\n",
    "nu = 50"
   ]
  },
  {
   "cell_type": "code",
   "execution_count": null,
   "metadata": {},
   "outputs": [],
   "source": []
  },
  {
   "cell_type": "code",
   "execution_count": 130,
   "metadata": {},
   "outputs": [],
   "source": [
    "mu_b = 927 * 1e-26\n"
   ]
  },
  {
   "cell_type": "code",
   "execution_count": 131,
   "metadata": {},
   "outputs": [
    {
     "name": "stdout",
     "output_type": "stream",
     "text": [
      "5.592402993245915\n",
      "2.0695614730461256\n"
     ]
    }
   ],
   "source": [
    "e0 = 11.9 * 1e-3\n",
    "B0 = 2 * e0 / (np.power(np.pi, 2) *nu * N * np.power(d, 2))\n",
    "print(B0 * 1e3)\n",
    "g = (const.h * f0) / (mu_b * B0)\n",
    "print(g)"
   ]
  },
  {
   "cell_type": "code",
   "execution_count": 133,
   "metadata": {},
   "outputs": [
    {
     "name": "stdout",
     "output_type": "stream",
     "text": [
      "6.175889328063241e-09\n"
     ]
    }
   ],
   "source": [
    "print(1 / f0)"
   ]
  }
 ],
 "metadata": {
  "kernelspec": {
   "display_name": "Python 3",
   "language": "python",
   "name": "python3"
  },
  "language_info": {
   "codemirror_mode": {
    "name": "ipython",
    "version": 3
   },
   "file_extension": ".py",
   "mimetype": "text/x-python",
   "name": "python",
   "nbconvert_exporter": "python",
   "pygments_lexer": "ipython3",
   "version": "3.10.12"
  }
 },
 "nbformat": 4,
 "nbformat_minor": 2
}
