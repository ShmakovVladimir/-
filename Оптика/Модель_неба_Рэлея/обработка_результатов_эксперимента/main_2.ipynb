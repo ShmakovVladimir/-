{
 "cells": [
  {
   "cell_type": "code",
   "execution_count": null,
   "metadata": {},
   "outputs": [],
   "source": [
    "import numpy as np\n",
    "import matplotlib.pyplot as plt\n",
    "from matplotlib.animation import FuncAnimation\n",
    "from os import listdir\n",
    "from os.path import isfile, join\n",
    "from datetime import datetime"
   ]
  },
  {
   "cell_type": "code",
   "execution_count": null,
   "metadata": {},
   "outputs": [],
   "source": [
    "measurment_path = '/home/vladimir/BOTAY!/projects/PolarizationNavigator/обработка_результатов/exam_demonstration_results'"
   ]
  },
  {
   "cell_type": "code",
   "execution_count": null,
   "metadata": {},
   "outputs": [],
   "source": [
    "def get_photo_at_exact_time(time: str, arr):\n",
    "    for i in arr:\n",
    "        if time in i:\n",
    "            return i"
   ]
  },
  {
   "cell_type": "code",
   "execution_count": null,
   "metadata": {},
   "outputs": [],
   "source": [
    "def threshhold(arr):\n",
    "    return (arr > 1) + (arr < 1) * arr"
   ]
  },
  {
   "cell_type": "code",
   "execution_count": null,
   "metadata": {},
   "outputs": [],
   "source": [
    "measurment_file_names = [f for f in listdir(measurment_path) if isfile(join(measurment_path, f))]\n",
    "dolp_file_names = [f for f in measurment_file_names if 'dolp' in f]\n",
    "experiment_time = list(set([f[:8] for f in dolp_file_names]))\n",
    "aop_file_names = [f for f in measurment_file_names if 'aop' in f]\n",
    "s0_file_names = [f for f in measurment_file_names if 's0' in f]"
   ]
  },
  {
   "cell_type": "code",
   "execution_count": null,
   "metadata": {},
   "outputs": [],
   "source": [
    "print(measurment_file_names)"
   ]
  },
  {
   "cell_type": "code",
   "execution_count": null,
   "metadata": {},
   "outputs": [],
   "source": [
    "experiment_time_sorted = []\n",
    "for time_string in experiment_time:\n",
    "    time_obj = datetime.strptime(time_string, \"%H_%M_%S\")\n",
    "    experiment_time_sorted.append(time_obj)\n",
    "\n",
    "experiment_time_sorted = sorted(experiment_time_sorted)\n",
    "experiment_time_sorted = [datetime.strftime(time_obj, \"%H_%M_%S\") for time_obj in experiment_time_sorted]"
   ]
  },
  {
   "cell_type": "code",
   "execution_count": null,
   "metadata": {},
   "outputs": [],
   "source": [
    "dolp_file_names_dict = {time: get_photo_at_exact_time(time, dolp_file_names) for time in experiment_time}\n",
    "aop_file_names_dict = {time: get_photo_at_exact_time(time, aop_file_names) for time in experiment_time}\n",
    "s0_file_names_dict = {time: get_photo_at_exact_time(time, s0_file_names) for time in experiment_time}"
   ]
  },
  {
   "cell_type": "code",
   "execution_count": null,
   "metadata": {},
   "outputs": [],
   "source": [
    "s0_file_names"
   ]
  },
  {
   "cell_type": "code",
   "execution_count": null,
   "metadata": {},
   "outputs": [],
   "source": [
    "photo_x_shape = np.load(measurment_path + '/' + s0_file_names[0]).shape[0]\n",
    "photo_y_shape = np.load(measurment_path + '/' + s0_file_names[0]).shape[1]\n",
    "print(np.load(measurment_path + '/' + s0_file_names[0]).shape)\n",
    "print(photo_x_shape, photo_y_shape)"
   ]
  },
  {
   "cell_type": "code",
   "execution_count": null,
   "metadata": {},
   "outputs": [],
   "source": [
    "print(len(experiment_time))"
   ]
  },
  {
   "cell_type": "code",
   "execution_count": null,
   "metadata": {},
   "outputs": [],
   "source": [
    "frames_on_plot_range = 1\n",
    "start = np.arange(20, len(experiment_time) - 2, frames_on_plot_range, dtype=np.int64)\n",
    "\n",
    "for ind, s in enumerate(start):\n",
    "    fig, axs = plt.subplots(8, 4, figsize = (14, 18), dpi = 200)\n",
    "    iterations = np.linspace(s, s + frames_on_plot_range, 8, dtype = np.int64)\n",
    "    axs[0, 0].set_title(\"Степень линейной поляризации\")\n",
    "    axs[0, 1].set_title(\"Угол поляризации\")\n",
    "    axs[0, 3].set_title(\"Угол поляризации\")\n",
    "    axs[0, 2].set_title(\"S0\")\n",
    "    for ax, iteration in zip(axs, iterations):\n",
    "        time = experiment_time_sorted[iteration]\n",
    "\n",
    "\n",
    "        for a in ax:\n",
    "            a.set_xticks([])\n",
    "            a.set_yticks([])\n",
    "        im = ax[0].imshow(threshhold(np.load(measurment_path + '/' + dolp_file_names_dict[time])), cmap = 'rainbow')\n",
    "        \n",
    "        plt.colorbar(im, fraction=0.046, pad=0.04)\n",
    "        im = ax[1].imshow(np.load(measurment_path + '/' + aop_file_names_dict[time]), cmap = 'rainbow')\n",
    "        plt.colorbar(im, fraction=0.046, pad=0.04)\n",
    "        \n",
    "        ax[2].imshow(np.load(measurment_path + '/' + s0_file_names_dict[time]), cmap = 'gray')\n",
    "        \n",
    "        ax[3].imshow(np.load(measurment_path + '/' + s0_file_names_dict[time]), cmap = 'gray', alpha = 1)\n",
    "\n",
    "\n",
    "        x = np.arange(0, photo_x_shape, 20)\n",
    "        y = np.arange(0, photo_y_shape, 20)\n",
    "\n",
    "\n",
    "        X, Y = np.meshgrid(x, y)\n",
    "\n",
    "        U = np.sin(np.load(measurment_path + '/' + aop_file_names_dict[time])[X, Y])\n",
    "        V = np.cos(np.load(measurment_path + '/' + aop_file_names_dict[time])[X, Y])\n",
    "\n",
    "        ax[3].quiver(Y, X, U, V, color = 'red', headlength=0, headaxislength=0, alpha = 1, linewidth = 4)\n",
    "        \n",
    "\n",
    "        ax[0].set_ylabel(f\"Время {time.replace('_', ':')}\", fontsize = 16)\n",
    "    fig.tight_layout()\n",
    "    plt.savefig(f\"plots_exam/{ind}.png\")\n",
    "    plt.show()"
   ]
  },
  {
   "cell_type": "code",
   "execution_count": null,
   "metadata": {},
   "outputs": [],
   "source": [
    "fig, ax = plt.subplots(1, 4, figsize = (20, 5), dpi = 200)\n",
    "\n",
    "iteration = 100\n",
    "time = \"07_50_21\"\n",
    "\n",
    "\n",
    "for a in ax:\n",
    "    a.set_xticks([])\n",
    "    a.set_yticks([])\n",
    "im = ax[0].imshow(np.load(measurment_path + '/' + dolp_file_names_dict[time]), cmap = 'rainbow')\n",
    "\n",
    "plt.colorbar(im, fraction=0.046, pad=0.04)\n",
    "im = ax[1].imshow(np.load(measurment_path + '/' + aop_file_names_dict[time]), cmap = 'rainbow')\n",
    "plt.colorbar(im, fraction=0.046, pad=0.04)\n",
    "ax[0].set_title(\"Степень поляризации\", fontsize = 16)\n",
    "ax[1].set_title(\"Угол поляризации\", fontsize = 16)\n",
    "ax[2].set_title(\"S0\", fontsize = 16)\n",
    "ax[3].set_title(\"Угол поляризации\", fontsize = 16)\n",
    "\n",
    "ax[2].imshow(np.load(measurment_path + '/' + s0_file_names_dict[time]), cmap = 'gray')\n",
    "\n",
    "\n",
    "DOLP = np.load(measurment_path + '/' + dolp_file_names_dict[time])\n",
    "min_polarization = np.unravel_index(DOLP.argmin(),\n",
    "                                    DOLP.shape)\n",
    "\n",
    "\n",
    "ax[3].imshow(np.load(measurment_path + '/' + s0_file_names_dict[time]), cmap = 'gray', alpha = 1)\n",
    "\n",
    "\n",
    "x = np.arange(0, photo_x_shape, 30)\n",
    "y = np.arange(0, photo_y_shape, 30)\n",
    "\n",
    "ax[3].scatter([min_polarization[0]], [min_polarization[1]], label = 'Точка с минимальной поляризацией', color = 'blue', s = 40)\n",
    "ax[2].scatter([min_polarization[0]], [min_polarization[1]], label = 'Точка с минимальной поляризацией', color = 'blue', s = 40)\n",
    "ax[2].legend(loc = 'upper right')\n",
    "X, Y = np.meshgrid(x, y)\n",
    "\n",
    "U = np.sin(np.load(measurment_path + '/' + aop_file_names_dict[time])[X, Y])\n",
    "V = np.cos(np.load(measurment_path + '/' + aop_file_names_dict[time])[X, Y])\n",
    "\n",
    "ax[3].quiver(Y, X, U, V, color = 'red', headlength=0, headaxislength=0, alpha = 1, linewidth = 4)\n",
    "\n",
    "\n",
    "ax[0].set_ylabel(f\"Время {time.replace('_', ':')}\", fontsize = 16)"
   ]
  }
 ],
 "metadata": {
  "kernelspec": {
   "display_name": "Python 3",
   "language": "python",
   "name": "python3"
  },
  "language_info": {
   "codemirror_mode": {
    "name": "ipython",
    "version": 3
   },
   "file_extension": ".py",
   "mimetype": "text/x-python",
   "name": "python",
   "nbconvert_exporter": "python",
   "pygments_lexer": "ipython3",
   "version": "3.10.6"
  },
  "orig_nbformat": 4
 },
 "nbformat": 4,
 "nbformat_minor": 2
}
