{
 "cells": [
  {
   "cell_type": "markdown",
   "metadata": {},
   "source": [
    "## Измерение магнитного поля земли"
   ]
  },
  {
   "cell_type": "code",
   "execution_count": 1,
   "metadata": {},
   "outputs": [],
   "source": [
    "import numpy as np\n",
    "import matplotlib.pyplot as plt\n",
    "import sympy as smp"
   ]
  },
  {
   "cell_type": "markdown",
   "metadata": {},
   "source": [
    "#### Период колебаний стержня "
   ]
  },
  {
   "cell_type": "code",
   "execution_count": 2,
   "metadata": {},
   "outputs": [
    {
     "name": "stdout",
     "output_type": "stream",
     "text": [
      "Период колбеаний зайчика: 7.466666666666666 +/- 0.3901566636906541\n"
     ]
    }
   ],
   "source": [
    "vibQ:int = 5 #количество колебаний в каждом эксперименте\n",
    "time = np.array([36,36,40]) #Время для 5 колебаний зайчика\n",
    "timeError = 0.5 #в качестве ошибки измерения времени(человеческий фактор+ прибор) возьмем половину секунды\n",
    "period: float = np.mean(time/vibQ) #период колебаний - среднее значение по всем экспериментам\n",
    "periodMSE: float = np.sqrt(np.sum(np.power((time/vibQ)-period,2))/len(time)) #срежне квадратичное отклонение\n",
    "periodError2: float = timeError/vibQ #ошибка, связанная с человеским фактором+погрешность прибора\n",
    "periodError: float = np.sqrt(periodMSE**2+periodError2**2) #сложение инструментальной погрешности и средне квадратичной ошибки по экспериментам\n",
    "print(\"Период колбеаний зайчика: \" + str(period)+\" +/- \"+str( periodError))"
   ]
  },
  {
   "cell_type": "markdown",
   "metadata": {},
   "source": [
    "#### Прочие данные эксперимента"
   ]
  },
  {
   "cell_type": "code",
   "execution_count": 74,
   "metadata": {},
   "outputs": [],
   "source": [
    "L_n,LError_n = 0.86,0.01 #расстояние от шкалы до зеркала, погрешность - один сантиметр(погрешность прибора(линейки)+учитываем ширину самой шкалы(около 5 мм))\n",
    "l_n,lError_n = 0.04,0.0005 #линейный размер намагниченного стержня + ошибка(использовался штангенциркуль)\n",
    "m_n,mError_n = 5.9*np.power(0.1,3),0.1*np.power(0.1,3) #масса стержня + ошибка(электронные весы)\n",
    "R_n,RError_n = 0.25,0.005 #радиус окружности(с витками внутри)\n",
    "x1_n,x1Error_n = 0.04,0.005 #отклонение зайчика в поле намгниченногос тержня\n",
    "r_n,rError_n = 0.005,0.0005 #радиус стержня + ошибка(использовался штангенциркуль)\n",
    "mu_n = 4 * np.pi * np.power(0.1,7) #магнитная постоянная"
   ]
  },
  {
   "cell_type": "markdown",
   "metadata": {},
   "source": [
    "#### Рассчет горизонатльной состовляющей магнитного поля земли"
   ]
  },
  {
   "cell_type": "code",
   "execution_count": 76,
   "metadata": {},
   "outputs": [
    {
     "data": {
      "text/latex": [
       "$\\displaystyle \\sqrt{\\frac{9 \\pi \\left|{\\frac{\\Delta_{R} \\sqrt{\\frac{L \\mu_{0} m \\left(\\frac{l^{2}}{12} + \\frac{r^{2}}{4}\\right)}{R x_{1}}}}{R^{2} T}}\\right|^{2}}{2} + 2 \\pi \\left|{\\frac{\\Delta_{T} \\sqrt{\\frac{L \\mu_{0} m \\left(\\frac{l^{2}}{12} + \\frac{r^{2}}{4}\\right)}{R x_{1}}}}{R T^{2}}}\\right|^{2} + \\frac{\\pi \\left|{\\frac{\\Delta_{L} \\sqrt{\\frac{L \\mu_{0} m \\left(\\frac{l^{2}}{12} + \\frac{r^{2}}{4}\\right)}{R x_{1}}}}{L R T}}\\right|^{2}}{2} + \\frac{\\pi \\left|{\\frac{\\Delta_{m} \\sqrt{\\frac{L \\mu_{0} m \\left(\\frac{l^{2}}{12} + \\frac{r^{2}}{4}\\right)}{R x_{1}}}}{R T m}}\\right|^{2}}{2} + \\frac{\\pi \\left|{\\frac{\\Delta_{x_{1}} \\sqrt{\\frac{L \\mu_{0} m \\left(\\frac{l^{2}}{12} + \\frac{r^{2}}{4}\\right)}{R x_{1}}}}{R T x_{1}}}\\right|^{2}}{2} + \\frac{\\pi \\left|{\\frac{\\Delta_{l} l \\sqrt{\\frac{L \\mu_{0} m \\left(\\frac{l^{2}}{12} + \\frac{r^{2}}{4}\\right)}{R x_{1}}}}{R T \\left(\\frac{l^{2}}{12} + \\frac{r^{2}}{4}\\right)}}\\right|^{2}}{72} + \\frac{\\pi \\left|{\\frac{\\Delta_{r} r \\sqrt{\\frac{L \\mu_{0} m \\left(\\frac{l^{2}}{12} + \\frac{r^{2}}{4}\\right)}{R x_{1}}}}{R T \\left(\\frac{l^{2}}{12} + \\frac{r^{2}}{4}\\right)}}\\right|^{2}}{8}}$"
      ],
      "text/plain": [
       "sqrt(9*pi*Abs(\\Delta_{R}*sqrt(L*\\mu_{0}*m*(l**2/12 + r**2/4)/(R*x_{1}))/(R**2*T))**2/2 + 2*pi*Abs(\\Delta_{T}*sqrt(L*\\mu_{0}*m*(l**2/12 + r**2/4)/(R*x_{1}))/(R*T**2))**2 + pi*Abs(\\Delta_{L}*sqrt(L*\\mu_{0}*m*(l**2/12 + r**2/4)/(R*x_{1}))/(L*R*T))**2/2 + pi*Abs(\\Delta_{m}*sqrt(L*\\mu_{0}*m*(l**2/12 + r**2/4)/(R*x_{1}))/(R*T*m))**2/2 + pi*Abs(\\Delta_{x_{1}}*sqrt(L*\\mu_{0}*m*(l**2/12 + r**2/4)/(R*x_{1}))/(R*T*x_{1}))**2/2 + pi*Abs(\\Delta_{l}*l*sqrt(L*\\mu_{0}*m*(l**2/12 + r**2/4)/(R*x_{1}))/(R*T*(l**2/12 + r**2/4)))**2/72 + pi*Abs(\\Delta_{r}*r*sqrt(L*\\mu_{0}*m*(l**2/12 + r**2/4)/(R*x_{1}))/(R*T*(l**2/12 + r**2/4)))**2/8)"
      ]
     },
     "execution_count": 76,
     "metadata": {},
     "output_type": "execute_result"
    }
   ],
   "source": [
    "T,R,mu,J,L,x1 = smp.symbols(\"T R \\mu_{0} J L x_{1}\") #вводим символы, использующиеся в работе\n",
    "dT,dR,dJ,dL,dx1 = smp.symbols(r\"\\Delta_{T} \\Delta_{R} \\Delta_{J} \\Delta_{L} \\Delta_{x_{1}}\") #символы ошибок\n",
    "m,l,r  = smp.symbols(r\"m l r\")\n",
    "dm,dl,dr = smp.symbols(r\"\\Delta_{m} \\Delta_{l} \\Delta_{r}\")\n",
    "#Рассчитаем момент инерции\n",
    "J = m*(((l**2)/12)+((r**2)/(4)))\n",
    "B0 = 2*smp.pi/(T*R)\n",
    "B0*=smp.sqrt(mu*J*L/(2*smp.pi*R*x1))\n",
    "B0variables = [m,l,r,R,T,L,x1] #параметры, от которыйх зависит B0\n",
    "B0ErrorVariablesA = [dm,dl,dr,dR,dT,dL,dx1] \n",
    "B0ErrorVariables = smp.Matrix(B0ErrorVariablesA) #столбец, содержащий ошибки по всем переменным от которых зависит наша B0\n",
    "B0gradient = smp.Matrix([B0.diff(i) for i in B0variables])\n",
    "B0ErrorsVector = smp.Matrix([B0gradient[i]*B0ErrorVariables[i] for i in range(len(B0ErrorVariables))]) #вектор, содержащий ошибки вычсиления B0 по кажой из переменных\n",
    "dB0 = B0ErrorsVector.norm() #норма вектора - и есть искомая ошибка\n",
    "dB0 #выражение для вычисления ошибки B0"
   ]
  },
  {
   "cell_type": "code",
   "execution_count": 75,
   "metadata": {},
   "outputs": [
    {
     "name": "stdout",
     "output_type": "stream",
     "text": [
      "Горизонтальная составляющая магнитного поля земли: 12668.351589637483 +/- 1119.1884063813147 нТл \n"
     ]
    }
   ],
   "source": [
    "B0_n = smp.lambdify(B0variables+[mu],B0)(m_n,l_n,r_n,R_n,period,L_n,x1_n,mu_n) #вычисление B0\n",
    "B0Error_n = smp.lambdify(B0variables+B0ErrorVariablesA+[mu],dB0)(m_n,l_n,r_n,R_n,period,L_n,x1_n,mError_n,lError_n,rError_n,RError_n,periodError,LError_n,x1Error_n,mu_n) #вычисление погреншности B0\n",
    "print(\"Горизонтальная составляющая магнитного поля земли: \"+str(B0_n*np.power(10,9))+\" +/- \"+str(B0Error_n*np.power(10,9))+\" нТл \")"
   ]
  },
  {
   "cell_type": "markdown",
   "metadata": {},
   "source": [
    "### Измерение электродинамической постоянной"
   ]
  },
  {
   "cell_type": "markdown",
   "metadata": {},
   "source": [
    "#### Данные работы"
   ]
  },
  {
   "cell_type": "code",
   "execution_count": 77,
   "metadata": {},
   "outputs": [],
   "source": [
    "N_n: int = 34\n",
    "C_n = 9*np.power(0.1,5)\n",
    "CErr_n = 0.02*C_n\n",
    "U_n,UError_n = 95,95*0.01\n",
    "x_n,xError_n = np.mean(np.array([11.5,12])/100),0.005\n",
    "nu_n = 50"
   ]
  },
  {
   "cell_type": "markdown",
   "metadata": {},
   "source": [
    "##### Рассчёт тока в единицах си"
   ]
  },
  {
   "cell_type": "code",
   "execution_count": 85,
   "metadata": {},
   "outputs": [],
   "source": [
    "I, B0, R, x, L, N,nu = smp.symbols(r\"I B_{0} R x L N \\nu\")\n",
    "dI,dB0,dR,dx,dL = smp.symbols(r\"\\Delta_{I} \\Delta_{B_{0}} \\Delta_{R} \\Delta_{x} \\Delta_{L}\")\n",
    "I = x*(2*B0*R)/(2*L*mu*N)\n",
    "IVariables = [B0,R,x,L]\n",
    "IErrorVariables = [dB0, dR ,dx, dL]\n",
    "Igradient = smp.Matrix([I.diff(IVariables[i]) for i in range(len(IVariables))])\n",
    "IErrorVector = smp.Matrix([Igradient[i]*IErrorVariables[i] for i in range(len(IErrorVariables))])\n",
    "dI = IErrorVector.norm()\n"
   ]
  },
  {
   "cell_type": "code",
   "execution_count": 92,
   "metadata": {},
   "outputs": [
    {
     "name": "stdout",
     "output_type": "stream",
     "text": [
      "Сила тока в единицах си: 0.010127698196701127 +/- 0.0010203806260523462 A \n"
     ]
    }
   ],
   "source": [
    "I_n = smp.lambdify(IVariables+[N,mu],I)(B0_n,R_n,x_n,L_n,N_n,mu_n)\n",
    "IError_n = smp.lambdify(IVariables+IErrorVariables+[N,mu],dI)(B0_n,R_n,x_n,L_n,B0Error_n,RError_n,xError_n,LError_n,N_n,mu_n)\n",
    "print(\"Сила тока в единицах си: \"+str(I_n)+\" +/- \"+str(IError_n)+\" A \")"
   ]
  },
  {
   "cell_type": "markdown",
   "metadata": {},
   "source": [
    "##### Рассчет силы тока в единицах СГС"
   ]
  },
  {
   "cell_type": "code",
   "execution_count": null,
   "metadata": {},
   "outputs": [],
   "source": [
    "C,U,nu,I2 = smp.symbols(\"C U \\nu I_{2}\")\n",
    "I2 = C*U*nu\n",
    "dC,dU "
   ]
  }
 ],
 "metadata": {
  "kernelspec": {
   "display_name": "Python 3.9.1 64-bit (system)",
   "language": "python",
   "name": "python3"
  },
  "language_info": {
   "codemirror_mode": {
    "name": "ipython",
    "version": 3
   },
   "file_extension": ".py",
   "mimetype": "text/x-python",
   "name": "python",
   "nbconvert_exporter": "python",
   "pygments_lexer": "ipython3",
   "version": "3.9.1"
  },
  "orig_nbformat": 4,
  "vscode": {
   "interpreter": {
    "hash": "c46ca4107e02cc35b8a86c8d0e6548e94f11f1e0488972cbcfefa78e90422c8a"
   }
  }
 },
 "nbformat": 4,
 "nbformat_minor": 2
}
