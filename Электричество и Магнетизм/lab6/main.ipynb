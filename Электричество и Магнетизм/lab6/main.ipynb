{
 "cells": [
  {
   "cell_type": "markdown",
   "metadata": {},
   "source": [
    "# Петля Гистерезиса - динамический метод"
   ]
  },
  {
   "cell_type": "code",
   "execution_count": 1,
   "metadata": {},
   "outputs": [],
   "source": [
    "import numpy as np\n",
    "import matplotlib.pyplot as plt"
   ]
  },
  {
   "cell_type": "markdown",
   "metadata": {},
   "source": [
    "данные, полученные в результате работы"
   ]
  },
  {
   "cell_type": "code",
   "execution_count": 15,
   "metadata": {},
   "outputs": [],
   "source": [
    "R0: float = 0.22 #сопротивление R0 [Ом]\n",
    "Ri: float = 20*np.power(10,3) #сопротивление интегрирующей цепочки [Ом]\n",
    "Ci: float = 20*np.power(0.1,6) #емкость конденсатора [Фарад]\n",
    "Kx = np.array([20*np.power(0.1,3),50*np.power(0.1,3),0.1]) #Kx [В]\n",
    "Ky = np.array([50,20,20])*np.power(0.1,3) #Ky [В]\n",
    "Ieff = np.array([224.8*np.power(0.1,3),0.515,1.53]) #Эффективный ток [А]\n",
    "N0 = np.array([int(20),int(25),int(42)]) #Количество мотков на катушке \n",
    "Ni = np.array([int(300),int(250),int(400)]) #Количество мотков на второй катушке\n",
    "S = np.array([0.76,2,3])*np.power(0.1,4) #Площадь поверхности [м^2]\n",
    "R = np.array([13.3,11,25])*np.power(0.1,2)/(2*np.pi) #радиус катушки [м]\n",
    "\n",
    "\n"
   ]
  },
  {
   "cell_type": "code",
   "execution_count": 16,
   "metadata": {},
   "outputs": [
    {
     "name": "stdout",
     "output_type": "stream",
     "text": [
      "[13.67053999 51.65289256 76.36363636]\n",
      "[0.70131417 3.12603679 2.45275279]\n",
      "[0.87719298 0.16       0.06666667]\n",
      "[0.03893518 0.01696844 0.01112072]\n"
     ]
    }
   ],
   "source": [
    "def countH(Kx,R,N0):\n",
    "    return (Kx*N0)/(2*np.pi*R*R0)\n",
    "def countHerr(Kx,R,N0):\n",
    "    #считаем погрешность измерения радиуса = 0.01 м\n",
    "    #погрешность измерения сопротивления = 0.2%\n",
    "    deltaR = 0.001\n",
    "    deltaR0 = 0.02*R0\n",
    "    Rerr = (deltaR*Kx*N0)/(2*np.pi*R0*np.power(R,2))\n",
    "    R0err = (Kx*N0*deltaR0)/(2*np.pi*np.power(R0,2)*R)\n",
    "    return np.sqrt(np.power(Rerr,2)+np.power(R0err,2))\n",
    "def countB(Ky,S,Ni):\n",
    "    return (Ri*Ci*Ky)/(S*Ni)\n",
    "def countBerr(Ky,S,Ni):\n",
    "    deltaRi = 0.02*Ri\n",
    "    deltaCi = 0.03*Ci\n",
    "    deltaR = 0.001\n",
    "    deltaS = np.sqrt(S/np.pi)*deltaR\n",
    "    RiErr = (Ci*Ky*deltaRi)/(S*Ni)\n",
    "    CiErr = (Ri*Ky*deltaCi)/(S*Ni)\n",
    "    Serr = (Ri*Ci*Kx*deltaS)/(np.power(S,2)*Ni)\n",
    "    return np.sqrt(np.power(RiErr,2)+np.power(CiErr,2)+np.power(Serr,2))\n",
    "print(countH(Kx,R,N0))\n",
    "print(countHerr(Kx,R,N0))\n",
    "print(countB(Ky,S,Ni))\n",
    "print(countBerr(Ky,S,Ni))"
   ]
  }
 ],
 "metadata": {
  "kernelspec": {
   "display_name": "Python 3.9.1 64-bit (system)",
   "language": "python",
   "name": "python3"
  },
  "language_info": {
   "codemirror_mode": {
    "name": "ipython",
    "version": 3
   },
   "file_extension": ".py",
   "mimetype": "text/x-python",
   "name": "python",
   "nbconvert_exporter": "python",
   "pygments_lexer": "ipython3",
   "version": "3.9.1"
  },
  "orig_nbformat": 4,
  "vscode": {
   "interpreter": {
    "hash": "c46ca4107e02cc35b8a86c8d0e6548e94f11f1e0488972cbcfefa78e90422c8a"
   }
  }
 },
 "nbformat": 4,
 "nbformat_minor": 2
}
