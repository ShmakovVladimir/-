{
 "cells": [
  {
   "attachments": {},
   "cell_type": "markdown",
   "metadata": {},
   "source": [
    "# Вопрос по выбору"
   ]
  },
  {
   "cell_type": "code",
   "execution_count": 89,
   "metadata": {},
   "outputs": [],
   "source": [
    "import matplotlib.pyplot as plt\n",
    "import ipywidgets\n",
    "import numpy as np\n",
    "import pandas as pd\n",
    "import scipy as sp\n",
    "from scipy.io import wavfile\n",
    "from scipy import signal\n",
    "from scipy.signal import periodogram as periodogram_f\n",
    "from scipy.fft import fftfreq, fftshift\n",
    "from scipy.fft import fft, ifft, fft2, ifft2"
   ]
  },
  {
   "attachments": {},
   "cell_type": "markdown",
   "metadata": {},
   "source": [
    "### Рассчет RC фильтра нижних частот"
   ]
  },
  {
   "attachments": {},
   "cell_type": "markdown",
   "metadata": {},
   "source": [
    "Для регулировки частоты среза будет использоваться потенциометр на $10 \\ кОм$. Максимальное сопротивление данного потенциометра - $9.2 \\ кОм$(измерено при помощи мультиметра). Нужно подобрать емкость конденсатора так, чтобы частота среза удобно регулировалась в пределах слухового частотного диапазона."
   ]
  },
  {
   "attachments": {},
   "cell_type": "markdown",
   "metadata": {},
   "source": [
    "АЧХ фильтра:\n",
    "$$\n",
    "U_{out} = U_{in} \\frac{X_{c}}{\\sqrt{R^2 + X_{C}^2}} \\ , X_{C} = \\frac{1}{2 \\pi \\nu C}\n",
    "$$\n",
    "Частота среза:\n",
    "$$\n",
    "f_{cutoff} = \\frac{1}{2 \\pi RC}\n",
    "$$\n",
    "Построим АЧХ и подберём параметры  цепи:"
   ]
  },
  {
   "cell_type": "code",
   "execution_count": 90,
   "metadata": {},
   "outputs": [
    {
     "data": {
      "application/vnd.jupyter.widget-view+json": {
       "model_id": "73fae6f0fab343c8bd9ac5745aa60578",
       "version_major": 2,
       "version_minor": 0
      },
      "text/plain": [
       "interactive(children=(FloatSlider(value=0.1, description='Resis', max=10.0, min=0.1, step=0.2), FloatSlider(va…"
      ]
     },
     "metadata": {},
     "output_type": "display_data"
    },
    {
     "data": {
      "text/plain": [
       "<function __main__.plotAFR(Resis=0.1, C=100)>"
      ]
     },
     "execution_count": 90,
     "metadata": {},
     "output_type": "execute_result"
    }
   ],
   "source": [
    "#ёмкость измеряем в нанофарадах, сопротивление в КОМ\n",
    "\n",
    "def plotAFR(Resis = 0.1,C = 100):\n",
    "    fig,ax = plt.subplots(figsize = (16,9))\n",
    "    plt.grid()\n",
    "    plt.xlabel(\"Частота $Гц$\")\n",
    "    plt.ylabel(\"Амплитуда\")\n",
    "    plt.xlim(20,22000)\n",
    "    plt.xticks(np.arange(20,22000,1000))\n",
    "    plt.ylim(0,1)\n",
    "    R = Resis*1000\n",
    "    cutoff = 1/(2*np.pi * R* C)\n",
    "    freq = np.linspace(20,22000,22000) #аудиодиапазон\n",
    "    X_c = 1/(2*np.pi*freq*(C*np.power(0.1,9)))\n",
    "    amp = R/np.sqrt(np.power(R,2)+np.power(X_c,2))\n",
    "    plt.plot(freq,amp,color = 'blue')\n",
    "ipywidgets.interact(plotAFR,Resis = (0.1,10,0.2),C = (0.1,500,5))"
   ]
  },
  {
   "attachments": {},
   "cell_type": "markdown",
   "metadata": {},
   "source": [
    "<<Хорошей>> ёмкостью оказалась $50 \\ n F$. Ближайшее значение ёмкости, которое у меня было - $0.1 \\ \\mu F$. Данное значение было выбрано как для LPF, так и для HPF."
   ]
  },
  {
   "cell_type": "code",
   "execution_count": 58,
   "metadata": {},
   "outputs": [],
   "source": [
    "C: float = 0.1 * np.power(0.1,6) #выбранное значение емкости"
   ]
  },
  {
   "attachments": {},
   "cell_type": "markdown",
   "metadata": {},
   "source": [
    "### Теоретическая модель"
   ]
  },
  {
   "attachments": {},
   "cell_type": "markdown",
   "metadata": {},
   "source": [
    "Коэффициент усиления:\n",
    "$$\n",
    "k = 1 + \\frac{100}{4.7} = 22.3\n",
    "$$\n",
    "При меньших коэффициентах усиления схема переставала <<самовозбуждаться>>, и амплитуда выходного сигнала была сложно уловима диктофоном с динамическим диапазоном $96 \\ dB$."
   ]
  },
  {
   "cell_type": "code",
   "execution_count": 59,
   "metadata": {},
   "outputs": [],
   "source": [
    "ampl_k = 22.3"
   ]
  },
  {
   "cell_type": "code",
   "execution_count": 87,
   "metadata": {},
   "outputs": [],
   "source": [
    "def plotAFR(R_hpf = 1, R_lpf = 1):\n",
    "    fig, ax = plt.subplots(figsize = (16,9))\n",
    "    plt.grid()\n",
    "    plt.xlabel(\"Частота $Гц$\")\n",
    "    plt.ylabel(\"Амплитуда\")\n",
    "    plt.xlim(20,22000)\n",
    "    plt.xticks(np.arange(20,22000,1000))\n",
    "    plt.ylim(0,int(ampl_k))\n",
    "    ####\n",
    "    R1 = R_hpf*1000\n",
    "    R2 = R_lpf*1000\n",
    "    freq = np.linspace(20,22000,20000)\n",
    "    X_c = 1/(2*np.pi*freq*C)\n",
    "    A_hpf = R1/np.sqrt(np.power(X_c,2)+np.power(R1,2))\n",
    "    A_lpf = X_c/np.sqrt(np.power(X_c,2)+np.power(R2,2))\n",
    "    A_result = ampl_k*A_hpf*A_lpf\n",
    "    plt.plot(freq,A_hpf,label = \"Фильтр высоких частот\")\n",
    "    plt.plot(freq,A_lpf,label = 'Фильтр низких частот')\n",
    "    plt.plot(freq,A_result,label = 'Результат',color = \"red\")\n",
    "    plt.legend()\n"
   ]
  },
  {
   "cell_type": "code",
   "execution_count": 88,
   "metadata": {},
   "outputs": [
    {
     "data": {
      "application/vnd.jupyter.widget-view+json": {
       "model_id": "37ed42654666475abeda4535ef12fc53",
       "version_major": 2,
       "version_minor": 0
      },
      "text/plain": [
       "interactive(children=(FloatSlider(value=1.0, description='R_hpf', max=10.0, min=0.1, step=0.2), FloatSlider(va…"
      ]
     },
     "metadata": {},
     "output_type": "display_data"
    },
    {
     "data": {
      "text/plain": [
       "<function __main__.plotAFR(R_hpf=1, R_lpf=1)>"
      ]
     },
     "execution_count": 88,
     "metadata": {},
     "output_type": "execute_result"
    }
   ],
   "source": [
    "ipywidgets.interact(plotAFR,R_hpf = (0.1,10,0.2),R_lpf = (0.1,10,0.2))"
   ]
  },
  {
   "attachments": {},
   "cell_type": "markdown",
   "metadata": {},
   "source": [
    "### Эксперимент"
   ]
  },
  {
   "attachments": {},
   "cell_type": "markdown",
   "metadata": {},
   "source": [
    "Попытка 1 - пробная"
   ]
  },
  {
   "cell_type": "code",
   "execution_count": null,
   "metadata": {},
   "outputs": [],
   "source": [
    "rate, data = sp.io.wavfile.read('../audio/DR0000_0229.wav')\n",
    "data=data[:,0]\n",
    "time = np.arange(0, len(data), 1)/rate"
   ]
  }
 ],
 "metadata": {
  "kernelspec": {
   "display_name": "Python 3",
   "language": "python",
   "name": "python3"
  },
  "language_info": {
   "codemirror_mode": {
    "name": "ipython",
    "version": 3
   },
   "file_extension": ".py",
   "mimetype": "text/x-python",
   "name": "python",
   "nbconvert_exporter": "python",
   "pygments_lexer": "ipython3",
   "version": "3.9.1"
  },
  "orig_nbformat": 4,
  "vscode": {
   "interpreter": {
    "hash": "c46ca4107e02cc35b8a86c8d0e6548e94f11f1e0488972cbcfefa78e90422c8a"
   }
  }
 },
 "nbformat": 4,
 "nbformat_minor": 2
}
