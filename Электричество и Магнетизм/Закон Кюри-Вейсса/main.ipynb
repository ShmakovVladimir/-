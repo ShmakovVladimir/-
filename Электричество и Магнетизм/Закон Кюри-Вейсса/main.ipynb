{
 "cells": [
  {
   "cell_type": "markdown",
   "metadata": {},
   "source": [
    "# Закон Кюри-Вейсса\n",
    "Шмаков Владимир Б04-105"
   ]
  },
  {
   "cell_type": "code",
   "execution_count": 2,
   "metadata": {},
   "outputs": [],
   "source": [
    "#необходимые библиотеки\n",
    "import matplotlib.pyplot as plt\n",
    "import numpy as np\n",
    "import sympy as smp\n",
    "from scipy.stats import linregress\n",
    "from scipy.optimize import curve_fit\n",
    "import pandas as pd"
   ]
  },
  {
   "cell_type": "markdown",
   "metadata": {},
   "source": [
    "### Данные, полученные в ходе работы"
   ]
  },
  {
   "cell_type": "code",
   "execution_count": null,
   "metadata": {},
   "outputs": [
    {
     "data": {
      "text/html": [
       "<div>\n",
       "<style scoped>\n",
       "    .dataframe tbody tr th:only-of-type {\n",
       "        vertical-align: middle;\n",
       "    }\n",
       "\n",
       "    .dataframe tbody tr th {\n",
       "        vertical-align: top;\n",
       "    }\n",
       "\n",
       "    .dataframe thead th {\n",
       "        text-align: right;\n",
       "    }\n",
       "</style>\n",
       "<table border=\"1\" class=\"dataframe\">\n",
       "  <thead>\n",
       "    <tr style=\"text-align: right;\">\n",
       "      <th></th>\n",
       "      <th>tau</th>\n",
       "      <th>T</th>\n",
       "      <th>deltaU</th>\n",
       "    </tr>\n",
       "  </thead>\n",
       "  <tbody>\n",
       "    <tr>\n",
       "      <th>0</th>\n",
       "      <td>7.9700</td>\n",
       "      <td>14.20</td>\n",
       "      <td>-0.012</td>\n",
       "    </tr>\n",
       "    <tr>\n",
       "      <th>1</th>\n",
       "      <td>7.9480</td>\n",
       "      <td>15.07</td>\n",
       "      <td>-0.015</td>\n",
       "    </tr>\n",
       "    <tr>\n",
       "      <th>2</th>\n",
       "      <td>7.8615</td>\n",
       "      <td>17.12</td>\n",
       "      <td>-0.015</td>\n",
       "    </tr>\n",
       "    <tr>\n",
       "      <th>3</th>\n",
       "      <td>7.7293</td>\n",
       "      <td>19.10</td>\n",
       "      <td>-0.018</td>\n",
       "    </tr>\n",
       "    <tr>\n",
       "      <th>4</th>\n",
       "      <td>7.5401</td>\n",
       "      <td>21.09</td>\n",
       "      <td>-0.020</td>\n",
       "    </tr>\n",
       "    <tr>\n",
       "      <th>5</th>\n",
       "      <td>7.3387</td>\n",
       "      <td>23.08</td>\n",
       "      <td>-0.022</td>\n",
       "    </tr>\n",
       "    <tr>\n",
       "      <th>6</th>\n",
       "      <td>7.2117</td>\n",
       "      <td>25.09</td>\n",
       "      <td>-0.019</td>\n",
       "    </tr>\n",
       "    <tr>\n",
       "      <th>7</th>\n",
       "      <td>7.1561</td>\n",
       "      <td>27.07</td>\n",
       "      <td>-0.020</td>\n",
       "    </tr>\n",
       "    <tr>\n",
       "      <th>8</th>\n",
       "      <td>7.1130</td>\n",
       "      <td>29.07</td>\n",
       "      <td>-0.020</td>\n",
       "    </tr>\n",
       "    <tr>\n",
       "      <th>9</th>\n",
       "      <td>7.0780</td>\n",
       "      <td>31.08</td>\n",
       "      <td>-0.020</td>\n",
       "    </tr>\n",
       "    <tr>\n",
       "      <th>10</th>\n",
       "      <td>7.0600</td>\n",
       "      <td>33.06</td>\n",
       "      <td>-0.020</td>\n",
       "    </tr>\n",
       "    <tr>\n",
       "      <th>11</th>\n",
       "      <td>7.0380</td>\n",
       "      <td>35.06</td>\n",
       "      <td>-0.020</td>\n",
       "    </tr>\n",
       "    <tr>\n",
       "      <th>12</th>\n",
       "      <td>7.0322</td>\n",
       "      <td>37.04</td>\n",
       "      <td>-0.020</td>\n",
       "    </tr>\n",
       "    <tr>\n",
       "      <th>13</th>\n",
       "      <td>7.0184</td>\n",
       "      <td>39.03</td>\n",
       "      <td>-0.020</td>\n",
       "    </tr>\n",
       "    <tr>\n",
       "      <th>14</th>\n",
       "      <td>7.0147</td>\n",
       "      <td>40.00</td>\n",
       "      <td>-0.020</td>\n",
       "    </tr>\n",
       "  </tbody>\n",
       "</table>\n",
       "</div>"
      ],
      "text/plain": [
       "       tau      T  deltaU\n",
       "0   7.9700  14.20  -0.012\n",
       "1   7.9480  15.07  -0.015\n",
       "2   7.8615  17.12  -0.015\n",
       "3   7.7293  19.10  -0.018\n",
       "4   7.5401  21.09  -0.020\n",
       "5   7.3387  23.08  -0.022\n",
       "6   7.2117  25.09  -0.019\n",
       "7   7.1561  27.07  -0.020\n",
       "8   7.1130  29.07  -0.020\n",
       "9   7.0780  31.08  -0.020\n",
       "10  7.0600  33.06  -0.020\n",
       "11  7.0380  35.06  -0.020\n",
       "12  7.0322  37.04  -0.020\n",
       "13  7.0184  39.03  -0.020\n",
       "14  7.0147  40.00  -0.020"
      ]
     },
     "execution_count": 2,
     "metadata": {},
     "output_type": "execute_result"
    }
   ],
   "source": [
    "data_dict = {\"tau\": [7.97,7.948,7.8615,7.7293,7.5401,7.3387,7.2117,7.1561,7.1130, 7.078, 7.06, 7.038, 7.0322,\n",
    "       7.0184, 7.0147],\n",
    "            \"T\": [14.2,15.07,17.12,19.1,21.09,23.08,25.09,27.07,29.07,31.08,33.06,35.06,37.04,39.03,40],\n",
    "            \"deltaU\": [-0.012,-0.015,-0.015,-0.018,-0.02,-0.022,-0.019]+[-0.02 for _ in range(8)]}\n",
    "#tau - muS\n",
    "#T - градусы цельсия\n",
    "#deltaU - миллиВольт\n",
    "k_n = 24 #коэффициент термопары \n",
    "tau0_n = 6.9092 #период колебаний без образца внутри\n",
    "data_df = pd.DataFrame(data_dict)\n",
    "tau_n = np.array(data_dict[\"tau\"]) \n",
    "TWater_n = np.array(data_dict[\"T\"])\n",
    "deltaU_n = np.array(data_dict[\"deltaU\"])\n",
    "data_df"
   ]
  },
  {
   "cell_type": "markdown",
   "metadata": {},
   "source": [
    "##### Таблица с данными в формате маркдаун"
   ]
  },
  {
   "cell_type": "code",
   "execution_count": null,
   "metadata": {},
   "outputs": [
    {
     "name": "stdout",
     "output_type": "stream",
     "text": [
      "|    |    tau |     T |   deltaU |\n",
      "|---:|-------:|------:|---------:|\n",
      "|  0 | 7.97   | 14.2  |   -0.012 |\n",
      "|  1 | 7.948  | 15.07 |   -0.015 |\n",
      "|  2 | 7.8615 | 17.12 |   -0.015 |\n",
      "|  3 | 7.7293 | 19.1  |   -0.018 |\n",
      "|  4 | 7.5401 | 21.09 |   -0.02  |\n",
      "|  5 | 7.3387 | 23.08 |   -0.022 |\n",
      "|  6 | 7.2117 | 25.09 |   -0.019 |\n",
      "|  7 | 7.1561 | 27.07 |   -0.02  |\n",
      "|  8 | 7.113  | 29.07 |   -0.02  |\n",
      "|  9 | 7.078  | 31.08 |   -0.02  |\n",
      "| 10 | 7.06   | 33.06 |   -0.02  |\n",
      "| 11 | 7.038  | 35.06 |   -0.02  |\n",
      "| 12 | 7.0322 | 37.04 |   -0.02  |\n",
      "| 13 | 7.0184 | 39.03 |   -0.02  |\n",
      "| 14 | 7.0147 | 40    |   -0.02  |\n"
     ]
    }
   ],
   "source": [
    "print(data_df.to_markdown())"
   ]
  },
  {
   "cell_type": "code",
   "execution_count": null,
   "metadata": {},
   "outputs": [],
   "source": [
    "from cmath import tau\n",
    "import dataframe_image as dfi\n",
    "DataDfStyled = data_df\n",
    "DataDfStyled = DataDfStyled.rename(columns = {'tau': r\"tau [mus]\",'T': \"T [C]\",'deltaU': \"deltaU [mV]\"})\n",
    "DataDfStyled = DataDfStyled.style.background_gradient()\n",
    "dfi.export(DataDfStyled,\"experimentData.png\")"
   ]
  },
  {
   "cell_type": "markdown",
   "metadata": {},
   "source": [
    "### Обработка результатов"
   ]
  },
  {
   "cell_type": "markdown",
   "metadata": {},
   "source": [
    "##### Рассчёт температуры образца"
   ]
  },
  {
   "cell_type": "markdown",
   "metadata": {},
   "source": [
    "Рассчитаем температуру с учетом показания термопары:$$T = T_{0}+k\\cdot \\Delta U$$"
   ]
  },
  {
   "cell_type": "code",
   "execution_count": null,
   "metadata": {},
   "outputs": [
    {
     "data": {
      "text/plain": [
       "array([13.912, 14.71 , 16.76 , 18.668, 20.61 , 22.552, 24.634, 26.59 ,\n",
       "       28.59 , 30.6  , 32.58 , 34.58 , 36.56 , 38.55 , 39.52 ])"
      ]
     },
     "execution_count": 5,
     "metadata": {},
     "output_type": "execute_result"
    }
   ],
   "source": [
    "T_n = TWater_n+k_n*deltaU_n\n",
    "T_n #температура образца в градусах"
   ]
  },
  {
   "cell_type": "markdown",
   "metadata": {},
   "source": [
    "##### Зависимость разности периодов от температуры"
   ]
  },
  {
   "cell_type": "markdown",
   "metadata": {},
   "source": [
    "$$\\operatorname{f}(T) = \\frac{1}{\\tau^2 - \\tau_{0}^2}$$"
   ]
  },
  {
   "cell_type": "code",
   "execution_count": null,
   "metadata": {},
   "outputs": [
    {
     "data": {
      "image/png": "[encoded data removed]",
      "text/plain": [
       "<Figure size 432x288 with 1 Axes>"
      ]
     },
     "metadata": {
      "needs_background": "light"
     },
     "output_type": "display_data"
    }
   ],
   "source": [
    "reciprocalDeltaTau_n = 1/(np.power(tau_n,2)-np.power(tau0_n,2))\n",
    "plt.plot(T_n,reciprocalDeltaTau_n,'o')\n",
    "plt.show() #график зависимости(промежуточный)"
   ]
  },
  {
   "cell_type": "markdown",
   "metadata": {},
   "source": [
    "По графику оцениваем, что для экстрополяции не нужно использовать первые 4 точки"
   ]
  },
  {
   "cell_type": "code",
   "execution_count": null,
   "metadata": {},
   "outputs": [
    {
     "name": "stdout",
     "output_type": "stream",
     "text": [
      "Коэффицинет наклона: 0.030540740299255374 +/- 0.00045574019042779994\n",
      "Пересечение с осью y: -0.5200805487287352 +/- 0.014175827250592727\n"
     ]
    }
   ],
   "source": [
    "notIgnoredDotsRange = [4,len(T_n)]\n",
    "MNKdata = linregress(T_n[notIgnoredDotsRange[0]:notIgnoredDotsRange[1]],reciprocalDeltaTau_n[notIgnoredDotsRange[0]:notIgnoredDotsRange[1]])\n",
    "print(\"Коэффицинет наклона: \"+str(MNKdata.slope)+\" +/- \"+str(MNKdata.stderr))\n",
    "print(\"Пересечение с осью y: \"+str(MNKdata.intercept)+\" +/- \"+str(MNKdata.intercept_stderr))"
   ]
  },
  {
   "cell_type": "markdown",
   "metadata": {},
   "source": [
    "Для нахождения парамагнитной точки $\\Omega_{p}$ вычислим пересечение интерполяционной кривой с осью $x$"
   ]
  },
  {
   "cell_type": "code",
   "execution_count": null,
   "metadata": {},
   "outputs": [
    {
     "name": "stdout",
     "output_type": "stream",
     "text": [
      "Перечечение с осью x: 17.029074725520505 +/- 0.5291688106869881\n"
     ]
    }
   ],
   "source": [
    "xIntersection = -1*MNKdata.intercept/MNKdata.slope\n",
    "xIntersectionError = np.sqrt(np.power(MNKdata.intercept_stderr*xIntersection/MNKdata.intercept,2) + np.power(MNKdata.stderr*xIntersection/MNKdata.slope,2))\n",
    "print(\"Перечечение с осью x: \"+str(xIntersection)+\" +/- \"+str(xIntersectionError))"
   ]
  },
  {
   "cell_type": "markdown",
   "metadata": {},
   "source": [
    "Нахождение ферромагнитной точки кюри"
   ]
  },
  {
   "cell_type": "code",
   "execution_count": null,
   "metadata": {},
   "outputs": [
    {
     "name": "stdout",
     "output_type": "stream",
     "text": [
      "Перечечение с осью x: 4.950418208211354 +/- 0.1538314299435516\n"
     ]
    }
   ],
   "source": [
    "MNKferro = linregress(T_n[:notIgnoredDotsRange[0]+1],reciprocalDeltaTau_n[:notIgnoredDotsRange[0]+1])\n",
    "xIntersectionFerro = -1*MNKferro.intercept/MNKferro.slope\n",
    "xIntersectionFerroError = xIntersectionError*xIntersectionFerro/xIntersection\n",
    "print(\"Перечечение с осью x: \"+str(xIntersectionFerro)+\" +/- \"+str(xIntersectionFerroError))"
   ]
  },
  {
   "cell_type": "markdown",
   "metadata": {},
   "source": [
    "Нахождение ферромагниитной точки кюри(нелинейная интерполяция)"
   ]
  },
  {
   "cell_type": "code",
   "execution_count": null,
   "metadata": {},
   "outputs": [
    {
     "data": {
      "text/plain": [
       "array([2.36938691e-05, 3.70849129e-01, 5.92396083e-02])"
      ]
     },
     "execution_count": 10,
     "metadata": {},
     "output_type": "execute_result"
    }
   ],
   "source": [
    "def parametricExponent(x: np.ndarray, a: float, b: float, c: float):\n",
    "    return a*np.exp(x*b)+c\n",
    "parabolaCff = np.array(curve_fit(f = parametricExponent,\n",
    "                        xdata = T_n[0:notIgnoredDotsRange[0]],\n",
    "                        ydata = reciprocalDeltaTau_n[0:notIgnoredDotsRange[0]])[0])\n",
    "parabolaCff"
   ]
  },
  {
   "cell_type": "markdown",
   "metadata": {},
   "source": [
    "построение графика"
   ]
  },
  {
   "cell_type": "code",
   "execution_count": null,
   "metadata": {},
   "outputs": [],
   "source": [
    "xRange = [4,42]\n",
    "xLine = np.linspace(xRange[0],xRange[1],1000)\n",
    "yMainLine = xLine*MNKdata.slope+MNKdata.intercept\n",
    "yErrorLine1 = xLine*(MNKdata.slope+MNKdata.stderr)+MNKdata.intercept+abs(MNKdata.intercept_stderr)\n",
    "yErrorLine2 = xLine*(MNKdata.slope-MNKdata.stderr)+MNKdata.intercept-abs(MNKdata.intercept_stderr)\n",
    "yFerro = MNKferro.slope*xLine+MNKferro.intercept"
   ]
  },
  {
   "cell_type": "code",
   "execution_count": null,
   "metadata": {},
   "outputs": [
    {
     "ename": "NameError",
     "evalue": "name 'plt' is not defined",
     "output_type": "error",
     "traceback": [
      "\u001b[1;31m---------------------------------------------------------------------------\u001b[0m",
      "\u001b[1;31mNameError\u001b[0m                                 Traceback (most recent call last)",
      "\u001b[1;32mc:\\Users\\Владимир\\Desktop\\BOTAY!\\Labs\\Электричество и Магнетизм\\Закон Кюри-Вейсса\\main.ipynb Ячейка 25\u001b[0m in \u001b[0;36m<cell line: 1>\u001b[1;34m()\u001b[0m\n\u001b[1;32m----> <a href='vscode-notebook-cell:/c%3A/Users/%D0%92%D0%BB%D0%B0%D0%B4%D0%B8%D0%BC%D0%B8%D1%80/Desktop/BOTAY%21/Labs/%D0%AD%D0%BB%D0%B5%D0%BA%D1%82%D1%80%D0%B8%D1%87%D0%B5%D1%81%D1%82%D0%B2%D0%BE%20%D0%B8%20%D0%9C%D0%B0%D0%B3%D0%BD%D0%B5%D1%82%D0%B8%D0%B7%D0%BC/%D0%97%D0%B0%D0%BA%D0%BE%D0%BD%20%D0%9A%D1%8E%D1%80%D0%B8-%D0%92%D0%B5%D0%B9%D1%81%D1%81%D0%B0/main.ipynb#X33sZmlsZQ%3D%3D?line=0'>1</a>\u001b[0m fig,ax \u001b[39m=\u001b[39m plt\u001b[39m.\u001b[39msubplots(figsize\u001b[39m=\u001b[39m(\u001b[39m18\u001b[39m, \u001b[39m12\u001b[39m))\n\u001b[0;32m      <a href='vscode-notebook-cell:/c%3A/Users/%D0%92%D0%BB%D0%B0%D0%B4%D0%B8%D0%BC%D0%B8%D1%80/Desktop/BOTAY%21/Labs/%D0%AD%D0%BB%D0%B5%D0%BA%D1%82%D1%80%D0%B8%D1%87%D0%B5%D1%81%D1%82%D0%B2%D0%BE%20%D0%B8%20%D0%9C%D0%B0%D0%B3%D0%BD%D0%B5%D1%82%D0%B8%D0%B7%D0%BC/%D0%97%D0%B0%D0%BA%D0%BE%D0%BD%20%D0%9A%D1%8E%D1%80%D0%B8-%D0%92%D0%B5%D0%B9%D1%81%D1%81%D0%B0/main.ipynb#X33sZmlsZQ%3D%3D?line=2'>3</a>\u001b[0m ax\u001b[39m.\u001b[39merrorbar(T_n,reciprocalDeltaTau_n,xerr \u001b[39m=\u001b[39m [\u001b[39m0.5\u001b[39m \u001b[39mfor\u001b[39;00m _ \u001b[39min\u001b[39;00m \u001b[39mrange\u001b[39m(\u001b[39mlen\u001b[39m(T_n))],fmt \u001b[39m=\u001b[39m \u001b[39m'\u001b[39m\u001b[39mD\u001b[39m\u001b[39m'\u001b[39m,label \u001b[39m=\u001b[39m \u001b[39m'\u001b[39m\u001b[39mЭкспериментальные данные\u001b[39m\u001b[39m'\u001b[39m,color \u001b[39m=\u001b[39m \u001b[39m'\u001b[39m\u001b[39mviolet\u001b[39m\u001b[39m'\u001b[39m)\n\u001b[0;32m      <a href='vscode-notebook-cell:/c%3A/Users/%D0%92%D0%BB%D0%B0%D0%B4%D0%B8%D0%BC%D0%B8%D1%80/Desktop/BOTAY%21/Labs/%D0%AD%D0%BB%D0%B5%D0%BA%D1%82%D1%80%D0%B8%D1%87%D0%B5%D1%81%D1%82%D0%B2%D0%BE%20%D0%B8%20%D0%9C%D0%B0%D0%B3%D0%BD%D0%B5%D1%82%D0%B8%D0%B7%D0%BC/%D0%97%D0%B0%D0%BA%D0%BE%D0%BD%20%D0%9A%D1%8E%D1%80%D0%B8-%D0%92%D0%B5%D0%B9%D1%81%D1%81%D0%B0/main.ipynb#X33sZmlsZQ%3D%3D?line=3'>4</a>\u001b[0m ax\u001b[39m.\u001b[39mplot(xLine,yMainLine,\u001b[39m'\u001b[39m\u001b[39m-.\u001b[39m\u001b[39m'\u001b[39m,label \u001b[39m=\u001b[39m \u001b[39m'\u001b[39m\u001b[39mЛинейная интерполяция 1 - описывается законом Кюри - Вейсса\u001b[39m\u001b[39m'\u001b[39m,color \u001b[39m=\u001b[39m \u001b[39m'\u001b[39m\u001b[39mblack\u001b[39m\u001b[39m'\u001b[39m)\n",
      "\u001b[1;31mNameError\u001b[0m: name 'plt' is not defined"
     ]
    }
   ],
   "source": [
    "fig,ax = plt.subplots(figsize=(18, 12))\n",
    "\n",
    "ax.errorbar(T_n,reciprocalDeltaTau_n,xerr = [0.5 for _ in range(len(T_n))],fmt = 'D',label = 'Экспериментальные данные',color = 'violet')\n",
    "ax.plot(xLine,yMainLine,'-.',label = 'Линейная интерполяция 1 - описывается законом Кюри - Вейсса',color = 'black')\n",
    "ax.plot(xLine,yErrorLine1,'--',label = \"Ошибка линейной интерполяции 1\",color = 'red')\n",
    "ax.plot(xLine,yErrorLine2,'--',color = 'red')\n",
    "ax.plot([xIntersection],[0],'.', color = 'red',markersize = 25,\n",
    "            label = \"$\\Theta_{p} = $\"+r\"$\"+str(round(xIntersection))+\"\\pm\"+str(round(xIntersectionError))+r\"\\ \\degree C$\")\n",
    "ax.plot(xLine,yFerro,'-.',color = 'orange',label = 'Линейная интерполяция 2')\n",
    "ax.plot([xIntersectionFerro],[0],'.',color = 'orange',label = '$\\Theta = $$'+str(round(xIntersectionFerro,1))+\" \\pm \"+str(round(xIntersectionFerroError,1))+\"\\ \\degree C$\",markersize = 25)\n",
    "# ax.plot(xLine,parametricExponent(xLine,*parabolaCff))\n",
    "ax.grid(True, which='both')\n",
    "ax.axhline(y=0, color='k')\n",
    "ax.axvline(x=0, color='black')\n",
    "ax.legend()\n",
    "plt.xlabel(\"Температура $\\degree C$\",fontsize=16)\n",
    "plt.ylabel(r\"$\\frac{1}{\\tau^{2} - \\tau_{0}^{2}} $\"+r\" мкс\"+r\"$^{-2}$\",fontsize=18)\n",
    "\n",
    "plt.xlim(xRange)\n",
    "plt.ylim([-0.02,0.8])\n",
    "xTicksDelta = 1\n",
    "plt.xticks(np.arange(xRange[0],xRange[1]+xTicksDelta,xTicksDelta))\n",
    "plt.yticks(np.arange(0,0.8+0.05,0.05))\n",
    "plt.show()"
   ]
  }
 ],
 "metadata": {
  "kernelspec": {
   "display_name": "Python 3.9.1 64-bit (system)",
   "language": "python",
   "name": "python3"
  },
  "language_info": {
   "codemirror_mode": {
    "name": "ipython",
    "version": 3
   },
   "file_extension": ".py",
   "mimetype": "text/x-python",
   "name": "python",
   "nbconvert_exporter": "python",
   "pygments_lexer": "ipython3",
   "version": "3.9.1"
  },
  "orig_nbformat": 4,
  "vscode": {
   "interpreter": {
    "hash": "c46ca4107e02cc35b8a86c8d0e6548e94f11f1e0488972cbcfefa78e90422c8a"
   }
  }
 },
 "nbformat": 4,
 "nbformat_minor": 2
}
