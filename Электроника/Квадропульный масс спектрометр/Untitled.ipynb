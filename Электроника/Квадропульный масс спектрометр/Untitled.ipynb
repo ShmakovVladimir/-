{
 "cells": [
  {
   "cell_type": "markdown",
   "id": "6c8cf0f3-a4d0-4e2e-9740-e5f5d12c8a75",
   "metadata": {},
   "source": [
    "$U_{235}$ vs $U_{238}$"
   ]
  },
  {
   "cell_type": "code",
   "execution_count": 1,
   "id": "1e7ef3ca-2142-455c-b34e-798fdc0ff5c5",
   "metadata": {
    "tags": []
   },
   "outputs": [
    {
     "data": {
      "text/plain": [
       "78.33333333333333"
      ]
     },
     "execution_count": 1,
     "metadata": {},
     "output_type": "execute_result"
    }
   ],
   "source": [
    "235 / (238-235)"
   ]
  },
  {
   "cell_type": "code",
   "execution_count": 14,
   "id": "ed1c2a63-d668-4fc6-9491-a998439a3324",
   "metadata": {
    "tags": []
   },
   "outputs": [],
   "source": [
    "CO = 12.011 + 15.999\n",
    "N2 = 14.007 * 2\n",
    "R = CO / abs(CO - N2)"
   ]
  },
  {
   "cell_type": "code",
   "execution_count": 15,
   "id": "f9ef77d0-3a1f-45b2-83a2-294dd4ac7a51",
   "metadata": {
    "tags": []
   },
   "outputs": [
    {
     "name": "stdout",
     "output_type": "stream",
     "text": [
      "Разрешающая способность R = 7002.50\n"
     ]
    }
   ],
   "source": [
    "print(f'Разрешающая способность R = {R:.2f}')"
   ]
  },
  {
   "cell_type": "code",
   "execution_count": null,
   "id": "7ff8c102-7d2a-493f-aeb6-18696949b4bc",
   "metadata": {},
   "outputs": [],
   "source": []
  }
 ],
 "metadata": {
  "kernelspec": {
   "display_name": "Python 3 (ipykernel)",
   "language": "python",
   "name": "python3"
  },
  "language_info": {
   "codemirror_mode": {
    "name": "ipython",
    "version": 3
   },
   "file_extension": ".py",
   "mimetype": "text/x-python",
   "name": "python",
   "nbconvert_exporter": "python",
   "pygments_lexer": "ipython3",
   "version": "3.10.6"
  }
 },
 "nbformat": 4,
 "nbformat_minor": 5
}
