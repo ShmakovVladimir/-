{
 "cells": [
  {
   "cell_type": "code",
   "execution_count": 1,
   "metadata": {},
   "outputs": [],
   "source": [
    "import numpy as np\n",
    "import matplotlib.pyplot as plt\n",
    "import sympy as smp"
   ]
  },
  {
   "cell_type": "code",
   "execution_count": 15,
   "metadata": {},
   "outputs": [],
   "source": [
    "t, m, Z, U0, UOmega, Omega, x, y, R0, U, phi= smp.symbols(r\"t m Z U_{0} U_{\\Omega} \\Omega x y R_{0} U \\phi\")\n",
    "\n",
    "\n",
    "# U = U(t)\n",
    "# phi = phi(U, x, y)\n",
    "\n",
    "x_d = smp.diff(x,t)\n",
    "x_dd = smp.diff(x_d,t)\n",
    "\n",
    "y_d = smp.diff(y,t)\n",
    "y_dd = smp.diff(y_d,t)"
   ]
  },
  {
   "cell_type": "code",
   "execution_count": 16,
   "metadata": {},
   "outputs": [
    {
     "data": {
      "text/latex": [
       "$\\displaystyle U_{0} + U_{\\Omega} \\cos{\\left(\\Omega t \\right)}$"
      ],
      "text/plain": [
       "U_{0} + U_{\\Omega}*cos(\\Omega*t)"
      ]
     },
     "execution_count": 16,
     "metadata": {},
     "output_type": "execute_result"
    }
   ],
   "source": [
    "U = U0 + UOmega*smp.cos(Omega*t)\n",
    "U"
   ]
  },
  {
   "cell_type": "code",
   "execution_count": 17,
   "metadata": {},
   "outputs": [
    {
     "data": {
      "text/latex": [
       "$\\displaystyle \\frac{\\left(U_{0} + U_{\\Omega} \\cos{\\left(\\Omega t \\right)}\\right) \\left(x^{2} + y^{2}\\right)}{2 R_{0}^{2}}$"
      ],
      "text/plain": [
       "(U_{0} + U_{\\Omega}*cos(\\Omega*t))*(x**2 + y**2)/(2*R_{0}**2)"
      ]
     },
     "execution_count": 17,
     "metadata": {},
     "output_type": "execute_result"
    }
   ],
   "source": [
    "phi = U*(x**2 + y**2)/(2*(R0**2))\n",
    "phi"
   ]
  },
  {
   "cell_type": "code",
   "execution_count": 18,
   "metadata": {},
   "outputs": [
    {
     "data": {
      "text/latex": [
       "$\\displaystyle \\frac{x \\left(U_{0} + U_{\\Omega} \\cos{\\left(\\Omega t \\right)}\\right)}{R_{0}^{2}}$"
      ],
      "text/plain": [
       "x*(U_{0} + U_{\\Omega}*cos(\\Omega*t))/R_{0}**2"
      ]
     },
     "execution_count": 18,
     "metadata": {},
     "output_type": "execute_result"
    }
   ],
   "source": [
    "Ex, Ey = smp.diff(phi,x), smp.diff(phi,y)\n",
    "Ex"
   ]
  },
  {
   "cell_type": "code",
   "execution_count": 19,
   "metadata": {},
   "outputs": [
    {
     "data": {
      "text/latex": [
       "$\\displaystyle \\frac{y \\left(U_{0} + U_{\\Omega} \\cos{\\left(\\Omega t \\right)}\\right)}{R_{0}^{2}}$"
      ],
      "text/plain": [
       "y*(U_{0} + U_{\\Omega}*cos(\\Omega*t))/R_{0}**2"
      ]
     },
     "execution_count": 19,
     "metadata": {},
     "output_type": "execute_result"
    }
   ],
   "source": [
    "Ey"
   ]
  }
 ],
 "metadata": {
  "kernelspec": {
   "display_name": "Python 3",
   "language": "python",
   "name": "python3"
  },
  "language_info": {
   "codemirror_mode": {
    "name": "ipython",
    "version": 3
   },
   "file_extension": ".py",
   "mimetype": "text/x-python",
   "name": "python",
   "nbconvert_exporter": "python",
   "pygments_lexer": "ipython3",
   "version": "3.9.1"
  },
  "orig_nbformat": 4
 },
 "nbformat": 4,
 "nbformat_minor": 2
}
